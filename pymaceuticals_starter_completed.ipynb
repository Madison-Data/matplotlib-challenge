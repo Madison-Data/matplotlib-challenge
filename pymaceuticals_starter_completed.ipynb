{
 "cells": [
  {
   "cell_type": "markdown",
   "metadata": {},
   "source": [
    "## Pymaceuticals Observations"
   ]
  },
  {
   "cell_type": "markdown",
   "metadata": {},
   "source": [
    "Of the 249 original mice records, 248 records were valid for analysis and 1 was dropped due to having duplicate entries across timepoints. \n",
    "\n",
    "Among the four drugs of interest (Capomulin, Ramicane, Infubinol, Ceftamin), Capomulin had the most outliers for final tumor volume. It also had to the most observed timepoints for any drug in the dataset.\n",
    "\n",
    "Weight and Tumor Volume are strongly correlated among mice treated with Capomulin (coef: 0.84)\n"
   ]
  },
  {
   "cell_type": "code",
   "execution_count": 387,
   "metadata": {},
   "outputs": [],
   "source": [
    "# Dependencies and Setup\n",
    "import matplotlib.pyplot as plt\n",
    "import pandas as pd\n",
    "import scipy.stats as st\n",
    "from scipy.stats import linregress\n",
    "import numpy as np\n",
    "\n",
    "# Study data files\n",
    "mouse_metadata_path = \"data/Mouse_metadata.csv\"\n",
    "study_results_path = \"data/Study_results.csv\"\n",
    "\n",
    "# Read the mouse data and the study results\n",
    "# Combine the data into a single dataset\n",
    "# Display the data table for preview"
   ]
  },
  {
   "cell_type": "code",
   "execution_count": 388,
   "metadata": {},
   "outputs": [
    {
     "data": {
      "text/html": [
       "<div>\n",
       "<style scoped>\n",
       "    .dataframe tbody tr th:only-of-type {\n",
       "        vertical-align: middle;\n",
       "    }\n",
       "\n",
       "    .dataframe tbody tr th {\n",
       "        vertical-align: top;\n",
       "    }\n",
       "\n",
       "    .dataframe thead th {\n",
       "        text-align: right;\n",
       "    }\n",
       "</style>\n",
       "<table border=\"1\" class=\"dataframe\">\n",
       "  <thead>\n",
       "    <tr style=\"text-align: right;\">\n",
       "      <th></th>\n",
       "      <th>Mouse ID</th>\n",
       "      <th>Timepoint</th>\n",
       "      <th>Tumor Volume (mm3)</th>\n",
       "      <th>Metastatic Sites</th>\n",
       "    </tr>\n",
       "  </thead>\n",
       "  <tbody>\n",
       "    <tr>\n",
       "      <th>15</th>\n",
       "      <td>z969</td>\n",
       "      <td>0</td>\n",
       "      <td>45.000000</td>\n",
       "      <td>0</td>\n",
       "    </tr>\n",
       "    <tr>\n",
       "      <th>530</th>\n",
       "      <td>z969</td>\n",
       "      <td>10</td>\n",
       "      <td>52.656081</td>\n",
       "      <td>1</td>\n",
       "    </tr>\n",
       "    <tr>\n",
       "      <th>909</th>\n",
       "      <td>z969</td>\n",
       "      <td>15</td>\n",
       "      <td>54.713005</td>\n",
       "      <td>2</td>\n",
       "    </tr>\n",
       "    <tr>\n",
       "      <th>1407</th>\n",
       "      <td>z969</td>\n",
       "      <td>30</td>\n",
       "      <td>65.841013</td>\n",
       "      <td>3</td>\n",
       "    </tr>\n",
       "    <tr>\n",
       "      <th>301</th>\n",
       "      <td>z969</td>\n",
       "      <td>5</td>\n",
       "      <td>49.332999</td>\n",
       "      <td>0</td>\n",
       "    </tr>\n",
       "  </tbody>\n",
       "</table>\n",
       "</div>"
      ],
      "text/plain": [
       "     Mouse ID  Timepoint  Tumor Volume (mm3)  Metastatic Sites\n",
       "15       z969          0           45.000000                 0\n",
       "530      z969         10           52.656081                 1\n",
       "909      z969         15           54.713005                 2\n",
       "1407     z969         30           65.841013                 3\n",
       "301      z969          5           49.332999                 0"
      ]
     },
     "execution_count": 388,
     "metadata": {},
     "output_type": "execute_result"
    }
   ],
   "source": [
    "study_results = pd.read_csv(study_results_path)\n",
    "results_df = study_results.sort_values([\"Mouse ID\"], ascending = False)\n",
    "results_df.head()"
   ]
  },
  {
   "cell_type": "code",
   "execution_count": 389,
   "metadata": {},
   "outputs": [
    {
     "data": {
      "text/plain": [
       "249"
      ]
     },
     "execution_count": 389,
     "metadata": {},
     "output_type": "execute_result"
    }
   ],
   "source": [
    "mouse_metadata = pd.read_csv(mouse_metadata_path)\n",
    "metadata_df = mouse_metadata.sort_values(by = [\"Mouse ID\"], ascending = False)\n",
    "metadata_df[\"Mouse ID\"].nunique()\n"
   ]
  },
  {
   "cell_type": "code",
   "execution_count": 390,
   "metadata": {},
   "outputs": [
    {
     "name": "stdout",
     "output_type": "stream",
     "text": [
      "<class 'pandas.core.frame.DataFrame'>\n",
      "Int64Index: 249 entries, 248 to 49\n",
      "Data columns (total 5 columns):\n",
      " #   Column        Non-Null Count  Dtype \n",
      "---  ------        --------------  ----- \n",
      " 0   Mouse ID      249 non-null    object\n",
      " 1   Drug Regimen  249 non-null    object\n",
      " 2   Sex           249 non-null    object\n",
      " 3   Age_months    249 non-null    int64 \n",
      " 4   Weight (g)    249 non-null    int64 \n",
      "dtypes: int64(2), object(3)\n",
      "memory usage: 11.7+ KB\n"
     ]
    }
   ],
   "source": [
    "metadata_df.info()"
   ]
  },
  {
   "cell_type": "code",
   "execution_count": 391,
   "metadata": {},
   "outputs": [
    {
     "name": "stdout",
     "output_type": "stream",
     "text": [
      "<class 'pandas.core.frame.DataFrame'>\n",
      "Int64Index: 1893 entries, 15 to 1804\n",
      "Data columns (total 4 columns):\n",
      " #   Column              Non-Null Count  Dtype  \n",
      "---  ------              --------------  -----  \n",
      " 0   Mouse ID            1893 non-null   object \n",
      " 1   Timepoint           1893 non-null   int64  \n",
      " 2   Tumor Volume (mm3)  1893 non-null   float64\n",
      " 3   Metastatic Sites    1893 non-null   int64  \n",
      "dtypes: float64(1), int64(2), object(1)\n",
      "memory usage: 73.9+ KB\n"
     ]
    }
   ],
   "source": [
    "results_df.info()"
   ]
  },
  {
   "cell_type": "code",
   "execution_count": 392,
   "metadata": {},
   "outputs": [
    {
     "name": "stdout",
     "output_type": "stream",
     "text": [
      "<class 'pandas.core.frame.DataFrame'>\n",
      "Int64Index: 1893 entries, 15 to 1804\n",
      "Data columns (total 4 columns):\n",
      " #   Column              Non-Null Count  Dtype  \n",
      "---  ------              --------------  -----  \n",
      " 0   Mouse ID            1893 non-null   object \n",
      " 1   Timepoint           1893 non-null   int64  \n",
      " 2   Tumor Volume (mm3)  1893 non-null   float64\n",
      " 3   Metastatic Sites    1893 non-null   int64  \n",
      "dtypes: float64(1), int64(2), object(1)\n",
      "memory usage: 73.9+ KB\n"
     ]
    }
   ],
   "source": [
    "drop_mouse_id = metadata_df[\"Mouse ID\"].unique()\n",
    "results2 = results_df[results_df[\"Mouse ID\"].isin(drop_mouse_id) == True]\n",
    "results2.info()"
   ]
  },
  {
   "cell_type": "code",
   "execution_count": 393,
   "metadata": {},
   "outputs": [
    {
     "name": "stdout",
     "output_type": "stream",
     "text": [
      "<class 'pandas.core.frame.DataFrame'>\n",
      "Int64Index: 1893 entries, 8 to 1884\n",
      "Data columns (total 8 columns):\n",
      " #   Column              Non-Null Count  Dtype  \n",
      "---  ------              --------------  -----  \n",
      " 0   Mouse ID            1893 non-null   object \n",
      " 1   Timepoint           1893 non-null   int64  \n",
      " 2   Tumor Volume (mm3)  1893 non-null   float64\n",
      " 3   Metastatic Sites    1893 non-null   int64  \n",
      " 4   Drug Regimen        1893 non-null   object \n",
      " 5   Sex                 1893 non-null   object \n",
      " 6   Age_months          1893 non-null   int64  \n",
      " 7   Weight (g)          1893 non-null   int64  \n",
      "dtypes: float64(1), int64(4), object(3)\n",
      "memory usage: 133.1+ KB\n"
     ]
    }
   ],
   "source": [
    "merged = pd.merge(results_df,metadata_df,on=\"Mouse ID\",how=\"left\")\n",
    "merged = merged.sort_values(by = [\"Mouse ID\", \"Timepoint\", \"Tumor Volume (mm3)\"], ascending = False)\n",
    "merged.info()\n",
    "# The sort_values applied here means that when the dataframe is deduplicated, \n",
    "# the last timepoint and largest tumor volume are retained of the duplicated entries"
   ]
  },
  {
   "cell_type": "code",
   "execution_count": 394,
   "metadata": {},
   "outputs": [
    {
     "data": {
      "text/html": [
       "<div>\n",
       "<style scoped>\n",
       "    .dataframe tbody tr th:only-of-type {\n",
       "        vertical-align: middle;\n",
       "    }\n",
       "\n",
       "    .dataframe tbody tr th {\n",
       "        vertical-align: top;\n",
       "    }\n",
       "\n",
       "    .dataframe thead th {\n",
       "        text-align: right;\n",
       "    }\n",
       "</style>\n",
       "<table border=\"1\" class=\"dataframe\">\n",
       "  <thead>\n",
       "    <tr style=\"text-align: right;\">\n",
       "      <th></th>\n",
       "      <th>Mouse ID</th>\n",
       "      <th>Timepoint</th>\n",
       "      <th>Tumor Volume (mm3)</th>\n",
       "      <th>Metastatic Sites</th>\n",
       "      <th>Drug Regimen</th>\n",
       "      <th>Sex</th>\n",
       "      <th>Age_months</th>\n",
       "      <th>Weight (g)</th>\n",
       "      <th>Mouse ID - Timepoint</th>\n",
       "    </tr>\n",
       "  </thead>\n",
       "  <tbody>\n",
       "    <tr>\n",
       "      <th>8</th>\n",
       "      <td>z969</td>\n",
       "      <td>45</td>\n",
       "      <td>73.867845</td>\n",
       "      <td>4</td>\n",
       "      <td>Naftisol</td>\n",
       "      <td>Male</td>\n",
       "      <td>9</td>\n",
       "      <td>30</td>\n",
       "      <td>z969-45</td>\n",
       "    </tr>\n",
       "    <tr>\n",
       "      <th>7</th>\n",
       "      <td>z969</td>\n",
       "      <td>40</td>\n",
       "      <td>70.314904</td>\n",
       "      <td>4</td>\n",
       "      <td>Naftisol</td>\n",
       "      <td>Male</td>\n",
       "      <td>9</td>\n",
       "      <td>30</td>\n",
       "      <td>z969-40</td>\n",
       "    </tr>\n",
       "    <tr>\n",
       "      <th>9</th>\n",
       "      <td>z969</td>\n",
       "      <td>35</td>\n",
       "      <td>69.176246</td>\n",
       "      <td>4</td>\n",
       "      <td>Naftisol</td>\n",
       "      <td>Male</td>\n",
       "      <td>9</td>\n",
       "      <td>30</td>\n",
       "      <td>z969-35</td>\n",
       "    </tr>\n",
       "    <tr>\n",
       "      <th>3</th>\n",
       "      <td>z969</td>\n",
       "      <td>30</td>\n",
       "      <td>65.841013</td>\n",
       "      <td>3</td>\n",
       "      <td>Naftisol</td>\n",
       "      <td>Male</td>\n",
       "      <td>9</td>\n",
       "      <td>30</td>\n",
       "      <td>z969-30</td>\n",
       "    </tr>\n",
       "    <tr>\n",
       "      <th>5</th>\n",
       "      <td>z969</td>\n",
       "      <td>25</td>\n",
       "      <td>63.145652</td>\n",
       "      <td>2</td>\n",
       "      <td>Naftisol</td>\n",
       "      <td>Male</td>\n",
       "      <td>9</td>\n",
       "      <td>30</td>\n",
       "      <td>z969-25</td>\n",
       "    </tr>\n",
       "  </tbody>\n",
       "</table>\n",
       "</div>"
      ],
      "text/plain": [
       "  Mouse ID  Timepoint  Tumor Volume (mm3)  Metastatic Sites Drug Regimen  \\\n",
       "8     z969         45           73.867845                 4     Naftisol   \n",
       "7     z969         40           70.314904                 4     Naftisol   \n",
       "9     z969         35           69.176246                 4     Naftisol   \n",
       "3     z969         30           65.841013                 3     Naftisol   \n",
       "5     z969         25           63.145652                 2     Naftisol   \n",
       "\n",
       "    Sex  Age_months  Weight (g) Mouse ID - Timepoint  \n",
       "8  Male           9          30              z969-45  \n",
       "7  Male           9          30              z969-40  \n",
       "9  Male           9          30              z969-35  \n",
       "3  Male           9          30              z969-30  \n",
       "5  Male           9          30              z969-25  "
      ]
     },
     "execution_count": 394,
     "metadata": {},
     "output_type": "execute_result"
    }
   ],
   "source": [
    "# Getting the duplicate mice by ID number that shows up for Mouse ID and Timepoint. \n",
    "merged[\"Mouse ID - Timepoint\"] = merged[\"Mouse ID\"] + \"-\" + merged[\"Timepoint\"].astype(str)\n",
    "merged.head()"
   ]
  },
  {
   "cell_type": "code",
   "execution_count": 395,
   "metadata": {},
   "outputs": [],
   "source": [
    "#merged.drop_duplicates(subset =[\"Mouse ID - Timepoint\"])\n",
    "#merged.info()"
   ]
  },
  {
   "cell_type": "code",
   "execution_count": 396,
   "metadata": {},
   "outputs": [],
   "source": [
    "#drop_mouse_id = merged[\"Mouse ID\"].unique()\n",
    "#drop_mouse_id"
   ]
  },
  {
   "cell_type": "code",
   "execution_count": 397,
   "metadata": {},
   "outputs": [],
   "source": [
    "#merged_clean = merged[merged[\"Mouse ID\"].isin(drop_mouse_id) == True]\n",
    "#merged_clean.info()\n",
    "#erged_clean.describe()"
   ]
  },
  {
   "cell_type": "code",
   "execution_count": 398,
   "metadata": {},
   "outputs": [
    {
     "data": {
      "text/html": [
       "<div>\n",
       "<style scoped>\n",
       "    .dataframe tbody tr th:only-of-type {\n",
       "        vertical-align: middle;\n",
       "    }\n",
       "\n",
       "    .dataframe tbody tr th {\n",
       "        vertical-align: top;\n",
       "    }\n",
       "\n",
       "    .dataframe thead th {\n",
       "        text-align: right;\n",
       "    }\n",
       "</style>\n",
       "<table border=\"1\" class=\"dataframe\">\n",
       "  <thead>\n",
       "    <tr style=\"text-align: right;\">\n",
       "      <th></th>\n",
       "      <th>Mouse ID</th>\n",
       "      <th>Timepoint</th>\n",
       "      <th>Tumor Volume (mm3)</th>\n",
       "      <th>Metastatic Sites</th>\n",
       "      <th>Drug Regimen</th>\n",
       "      <th>Sex</th>\n",
       "      <th>Age_months</th>\n",
       "      <th>Weight (g)</th>\n",
       "      <th>Mouse ID - Timepoint</th>\n",
       "      <th>Is Duplicate</th>\n",
       "    </tr>\n",
       "  </thead>\n",
       "  <tbody>\n",
       "    <tr>\n",
       "      <th>8</th>\n",
       "      <td>z969</td>\n",
       "      <td>45</td>\n",
       "      <td>73.867845</td>\n",
       "      <td>4</td>\n",
       "      <td>Naftisol</td>\n",
       "      <td>Male</td>\n",
       "      <td>9</td>\n",
       "      <td>30</td>\n",
       "      <td>z969-45</td>\n",
       "      <td>False</td>\n",
       "    </tr>\n",
       "    <tr>\n",
       "      <th>7</th>\n",
       "      <td>z969</td>\n",
       "      <td>40</td>\n",
       "      <td>70.314904</td>\n",
       "      <td>4</td>\n",
       "      <td>Naftisol</td>\n",
       "      <td>Male</td>\n",
       "      <td>9</td>\n",
       "      <td>30</td>\n",
       "      <td>z969-40</td>\n",
       "      <td>False</td>\n",
       "    </tr>\n",
       "    <tr>\n",
       "      <th>9</th>\n",
       "      <td>z969</td>\n",
       "      <td>35</td>\n",
       "      <td>69.176246</td>\n",
       "      <td>4</td>\n",
       "      <td>Naftisol</td>\n",
       "      <td>Male</td>\n",
       "      <td>9</td>\n",
       "      <td>30</td>\n",
       "      <td>z969-35</td>\n",
       "      <td>False</td>\n",
       "    </tr>\n",
       "    <tr>\n",
       "      <th>3</th>\n",
       "      <td>z969</td>\n",
       "      <td>30</td>\n",
       "      <td>65.841013</td>\n",
       "      <td>3</td>\n",
       "      <td>Naftisol</td>\n",
       "      <td>Male</td>\n",
       "      <td>9</td>\n",
       "      <td>30</td>\n",
       "      <td>z969-30</td>\n",
       "      <td>False</td>\n",
       "    </tr>\n",
       "    <tr>\n",
       "      <th>5</th>\n",
       "      <td>z969</td>\n",
       "      <td>25</td>\n",
       "      <td>63.145652</td>\n",
       "      <td>2</td>\n",
       "      <td>Naftisol</td>\n",
       "      <td>Male</td>\n",
       "      <td>9</td>\n",
       "      <td>30</td>\n",
       "      <td>z969-25</td>\n",
       "      <td>False</td>\n",
       "    </tr>\n",
       "  </tbody>\n",
       "</table>\n",
       "</div>"
      ],
      "text/plain": [
       "  Mouse ID  Timepoint  Tumor Volume (mm3)  Metastatic Sites Drug Regimen  \\\n",
       "8     z969         45           73.867845                 4     Naftisol   \n",
       "7     z969         40           70.314904                 4     Naftisol   \n",
       "9     z969         35           69.176246                 4     Naftisol   \n",
       "3     z969         30           65.841013                 3     Naftisol   \n",
       "5     z969         25           63.145652                 2     Naftisol   \n",
       "\n",
       "    Sex  Age_months  Weight (g) Mouse ID - Timepoint  Is Duplicate  \n",
       "8  Male           9          30              z969-45         False  \n",
       "7  Male           9          30              z969-40         False  \n",
       "9  Male           9          30              z969-35         False  \n",
       "3  Male           9          30              z969-30         False  \n",
       "5  Male           9          30              z969-25         False  "
      ]
     },
     "execution_count": 398,
     "metadata": {},
     "output_type": "execute_result"
    }
   ],
   "source": [
    "merged[\"Is Duplicate\"] = merged.duplicated([\"Mouse ID - Timepoint\"])\n",
    "merged.head()"
   ]
  },
  {
   "cell_type": "code",
   "execution_count": 399,
   "metadata": {},
   "outputs": [
    {
     "name": "stdout",
     "output_type": "stream",
     "text": [
      "There are 1888 unique Mouse IDs & Timepoint combinations in merged dataframe and 1893 total Mouse IDs & Timepoint combinations in the dataframe.\n",
      "There are 5 duplicates.\n"
     ]
    }
   ],
   "source": [
    "# Checking the number of mice.\n",
    "mousecount = merged[\"Mouse ID - Timepoint\"].nunique()\n",
    "mousecount_all = merged[\"Mouse ID - Timepoint\"].count()\n",
    "dup_count = mousecount_all - mousecount\n",
    "\n",
    "print(f\"There are {mousecount} unique Mouse IDs & Timepoint combinations in merged dataframe and {mousecount_all} total Mouse IDs & Timepoint combinations in the dataframe.\")\n",
    "print(f\"There are {dup_count} duplicates.\")"
   ]
  },
  {
   "cell_type": "code",
   "execution_count": 400,
   "metadata": {},
   "outputs": [
    {
     "data": {
      "text/html": [
       "<div>\n",
       "<style scoped>\n",
       "    .dataframe tbody tr th:only-of-type {\n",
       "        vertical-align: middle;\n",
       "    }\n",
       "\n",
       "    .dataframe tbody tr th {\n",
       "        vertical-align: top;\n",
       "    }\n",
       "\n",
       "    .dataframe thead th {\n",
       "        text-align: right;\n",
       "    }\n",
       "</style>\n",
       "<table border=\"1\" class=\"dataframe\">\n",
       "  <thead>\n",
       "    <tr style=\"text-align: right;\">\n",
       "      <th></th>\n",
       "      <th>Mouse ID</th>\n",
       "      <th>Timepoint</th>\n",
       "      <th>Tumor Volume (mm3)</th>\n",
       "      <th>Metastatic Sites</th>\n",
       "      <th>Drug Regimen</th>\n",
       "      <th>Sex</th>\n",
       "      <th>Age_months</th>\n",
       "      <th>Weight (g)</th>\n",
       "      <th>Mouse ID - Timepoint</th>\n",
       "      <th>Is Duplicate</th>\n",
       "    </tr>\n",
       "  </thead>\n",
       "  <tbody>\n",
       "    <tr>\n",
       "      <th>1302</th>\n",
       "      <td>g989</td>\n",
       "      <td>20</td>\n",
       "      <td>54.657650</td>\n",
       "      <td>1</td>\n",
       "      <td>Propriva</td>\n",
       "      <td>Female</td>\n",
       "      <td>21</td>\n",
       "      <td>26</td>\n",
       "      <td>g989-20</td>\n",
       "      <td>True</td>\n",
       "    </tr>\n",
       "    <tr>\n",
       "      <th>1298</th>\n",
       "      <td>g989</td>\n",
       "      <td>15</td>\n",
       "      <td>51.325852</td>\n",
       "      <td>1</td>\n",
       "      <td>Propriva</td>\n",
       "      <td>Female</td>\n",
       "      <td>21</td>\n",
       "      <td>26</td>\n",
       "      <td>g989-15</td>\n",
       "      <td>True</td>\n",
       "    </tr>\n",
       "    <tr>\n",
       "      <th>1305</th>\n",
       "      <td>g989</td>\n",
       "      <td>10</td>\n",
       "      <td>49.880528</td>\n",
       "      <td>0</td>\n",
       "      <td>Propriva</td>\n",
       "      <td>Female</td>\n",
       "      <td>21</td>\n",
       "      <td>26</td>\n",
       "      <td>g989-10</td>\n",
       "      <td>True</td>\n",
       "    </tr>\n",
       "    <tr>\n",
       "      <th>1295</th>\n",
       "      <td>g989</td>\n",
       "      <td>5</td>\n",
       "      <td>47.570392</td>\n",
       "      <td>0</td>\n",
       "      <td>Propriva</td>\n",
       "      <td>Female</td>\n",
       "      <td>21</td>\n",
       "      <td>26</td>\n",
       "      <td>g989-5</td>\n",
       "      <td>True</td>\n",
       "    </tr>\n",
       "    <tr>\n",
       "      <th>1306</th>\n",
       "      <td>g989</td>\n",
       "      <td>0</td>\n",
       "      <td>45.000000</td>\n",
       "      <td>0</td>\n",
       "      <td>Propriva</td>\n",
       "      <td>Female</td>\n",
       "      <td>21</td>\n",
       "      <td>26</td>\n",
       "      <td>g989-0</td>\n",
       "      <td>True</td>\n",
       "    </tr>\n",
       "  </tbody>\n",
       "</table>\n",
       "</div>"
      ],
      "text/plain": [
       "     Mouse ID  Timepoint  Tumor Volume (mm3)  Metastatic Sites Drug Regimen  \\\n",
       "1302     g989         20           54.657650                 1     Propriva   \n",
       "1298     g989         15           51.325852                 1     Propriva   \n",
       "1305     g989         10           49.880528                 0     Propriva   \n",
       "1295     g989          5           47.570392                 0     Propriva   \n",
       "1306     g989          0           45.000000                 0     Propriva   \n",
       "\n",
       "         Sex  Age_months  Weight (g) Mouse ID - Timepoint  Is Duplicate  \n",
       "1302  Female          21          26              g989-20          True  \n",
       "1298  Female          21          26              g989-15          True  \n",
       "1305  Female          21          26              g989-10          True  \n",
       "1295  Female          21          26               g989-5          True  \n",
       "1306  Female          21          26               g989-0          True  "
      ]
     },
     "execution_count": 400,
     "metadata": {},
     "output_type": "execute_result"
    }
   ],
   "source": [
    "# Getting the duplicate mice by ID number that shows up for Mouse ID and Timepoint. \n",
    "# Optional: Get all the data for the duplicate mouse ID. \n",
    "merged_dups = merged[merged[\"Is Duplicate\"] == True]\n",
    "merged_dups.head(10)"
   ]
  },
  {
   "cell_type": "code",
   "execution_count": 401,
   "metadata": {},
   "outputs": [
    {
     "name": "stdout",
     "output_type": "stream",
     "text": [
      "There are 248 unique Mouse IDs in merged dataframe.\n"
     ]
    }
   ],
   "source": [
    "# Create a clean DataFrame by dropping the duplicate mouse by its ID.\n",
    "merged_clean = merged[merged[\"Mouse ID\"].isin(merged_dups[\"Mouse ID\"])==False]\n",
    "# merged_clean.info(15)\n",
    "mousecount_final = merged_clean[\"Mouse ID\"].nunique()\n",
    "print(f\"There are {mousecount_final} unique Mouse IDs in merged dataframe.\")"
   ]
  },
  {
   "cell_type": "markdown",
   "metadata": {},
   "source": [
    "## Summary Statistics"
   ]
  },
  {
   "cell_type": "code",
   "execution_count": 402,
   "metadata": {},
   "outputs": [
    {
     "data": {
      "text/html": [
       "<div>\n",
       "<style scoped>\n",
       "    .dataframe tbody tr th:only-of-type {\n",
       "        vertical-align: middle;\n",
       "    }\n",
       "\n",
       "    .dataframe tbody tr th {\n",
       "        vertical-align: top;\n",
       "    }\n",
       "\n",
       "    .dataframe thead th {\n",
       "        text-align: right;\n",
       "    }\n",
       "</style>\n",
       "<table border=\"1\" class=\"dataframe\">\n",
       "  <thead>\n",
       "    <tr style=\"text-align: right;\">\n",
       "      <th></th>\n",
       "      <th>Average Tumor Volume</th>\n",
       "      <th>Median Tumor Volume</th>\n",
       "      <th>Variance of Tumor Volume</th>\n",
       "      <th>Standard Deviation of Tumor Volume</th>\n",
       "      <th>Standard Error of Tumor Volume</th>\n",
       "    </tr>\n",
       "  </thead>\n",
       "  <tbody>\n",
       "    <tr>\n",
       "      <th>0</th>\n",
       "      <td>50.435</td>\n",
       "      <td>48.933</td>\n",
       "      <td>79.463</td>\n",
       "      <td>8.914</td>\n",
       "      <td>0.206</td>\n",
       "    </tr>\n",
       "  </tbody>\n",
       "</table>\n",
       "</div>"
      ],
      "text/plain": [
       "   Average Tumor Volume  Median Tumor Volume  Variance of Tumor Volume  \\\n",
       "0                50.435               48.933                    79.463   \n",
       "\n",
       "   Standard Deviation of Tumor Volume  Standard Error of Tumor Volume  \n",
       "0                               8.914                           0.206  "
      ]
     },
     "execution_count": 402,
     "metadata": {},
     "output_type": "execute_result"
    }
   ],
   "source": [
    "# Generate a summary statistics table of:\n",
    "# mean, median, variance, standard deviation, and SEM of the tumor volume for each regimen\n",
    "# Assemble the resulting series into a single summary dataframe.\n",
    "\n",
    "avg_tumor = merged_clean[\"Tumor Volume (mm3)\"].mean()\n",
    "med_tumor = merged_clean[\"Tumor Volume (mm3)\"].median()\n",
    "var_tumor = merged_clean[\"Tumor Volume (mm3)\"].var()\n",
    "std_tumor = merged_clean[\"Tumor Volume (mm3)\"].std()\n",
    "sem_tumor = merged_clean[\"Tumor Volume (mm3)\"].sem()\n",
    "\n",
    "tumor_summary_1 = pd.DataFrame([{\"Average Tumor Volume\": avg_tumor,\n",
    "                    \"Median Tumor Volume\": med_tumor,\n",
    "                     \"Variance of Tumor Volume\": var_tumor,\\\n",
    "                     \"Standard Deviation of Tumor Volume\": std_tumor,\\\n",
    "                     \"Standard Error of Tumor Volume\": sem_tumor}])\n",
    "tumor_summary_1.round(3)"
   ]
  },
  {
   "cell_type": "code",
   "execution_count": 403,
   "metadata": {},
   "outputs": [
    {
     "data": {
      "text/html": [
       "<div>\n",
       "<style scoped>\n",
       "    .dataframe tbody tr th:only-of-type {\n",
       "        vertical-align: middle;\n",
       "    }\n",
       "\n",
       "    .dataframe tbody tr th {\n",
       "        vertical-align: top;\n",
       "    }\n",
       "\n",
       "    .dataframe thead tr th {\n",
       "        text-align: left;\n",
       "    }\n",
       "\n",
       "    .dataframe thead tr:last-of-type th {\n",
       "        text-align: right;\n",
       "    }\n",
       "</style>\n",
       "<table border=\"1\" class=\"dataframe\">\n",
       "  <thead>\n",
       "    <tr>\n",
       "      <th></th>\n",
       "      <th colspan=\"5\" halign=\"left\">Tumor Volume (mm3)</th>\n",
       "    </tr>\n",
       "    <tr>\n",
       "      <th></th>\n",
       "      <th>mean</th>\n",
       "      <th>median</th>\n",
       "      <th>std</th>\n",
       "      <th>var</th>\n",
       "      <th>sem</th>\n",
       "    </tr>\n",
       "    <tr>\n",
       "      <th>Drug Regimen</th>\n",
       "      <th></th>\n",
       "      <th></th>\n",
       "      <th></th>\n",
       "      <th></th>\n",
       "      <th></th>\n",
       "    </tr>\n",
       "  </thead>\n",
       "  <tbody>\n",
       "    <tr>\n",
       "      <th>Capomulin</th>\n",
       "      <td>40.676</td>\n",
       "      <td>41.558</td>\n",
       "      <td>4.995</td>\n",
       "      <td>24.948</td>\n",
       "      <td>0.329</td>\n",
       "    </tr>\n",
       "    <tr>\n",
       "      <th>Ceftamin</th>\n",
       "      <td>52.591</td>\n",
       "      <td>51.776</td>\n",
       "      <td>6.268</td>\n",
       "      <td>39.290</td>\n",
       "      <td>0.470</td>\n",
       "    </tr>\n",
       "    <tr>\n",
       "      <th>Infubinol</th>\n",
       "      <td>52.885</td>\n",
       "      <td>51.821</td>\n",
       "      <td>6.567</td>\n",
       "      <td>43.129</td>\n",
       "      <td>0.492</td>\n",
       "    </tr>\n",
       "    <tr>\n",
       "      <th>Ketapril</th>\n",
       "      <td>55.236</td>\n",
       "      <td>53.699</td>\n",
       "      <td>8.280</td>\n",
       "      <td>68.554</td>\n",
       "      <td>0.604</td>\n",
       "    </tr>\n",
       "    <tr>\n",
       "      <th>Naftisol</th>\n",
       "      <td>54.332</td>\n",
       "      <td>52.509</td>\n",
       "      <td>8.135</td>\n",
       "      <td>66.173</td>\n",
       "      <td>0.596</td>\n",
       "    </tr>\n",
       "    <tr>\n",
       "      <th>Placebo</th>\n",
       "      <td>54.034</td>\n",
       "      <td>52.289</td>\n",
       "      <td>7.821</td>\n",
       "      <td>61.168</td>\n",
       "      <td>0.581</td>\n",
       "    </tr>\n",
       "    <tr>\n",
       "      <th>Propriva</th>\n",
       "      <td>52.321</td>\n",
       "      <td>50.446</td>\n",
       "      <td>6.622</td>\n",
       "      <td>43.852</td>\n",
       "      <td>0.544</td>\n",
       "    </tr>\n",
       "    <tr>\n",
       "      <th>Ramicane</th>\n",
       "      <td>40.217</td>\n",
       "      <td>40.673</td>\n",
       "      <td>4.846</td>\n",
       "      <td>23.487</td>\n",
       "      <td>0.321</td>\n",
       "    </tr>\n",
       "    <tr>\n",
       "      <th>Stelasyn</th>\n",
       "      <td>54.233</td>\n",
       "      <td>52.432</td>\n",
       "      <td>7.710</td>\n",
       "      <td>59.451</td>\n",
       "      <td>0.573</td>\n",
       "    </tr>\n",
       "    <tr>\n",
       "      <th>Zoniferol</th>\n",
       "      <td>53.237</td>\n",
       "      <td>51.818</td>\n",
       "      <td>6.967</td>\n",
       "      <td>48.533</td>\n",
       "      <td>0.516</td>\n",
       "    </tr>\n",
       "  </tbody>\n",
       "</table>\n",
       "</div>"
      ],
      "text/plain": [
       "             Tumor Volume (mm3)                              \n",
       "                           mean  median    std     var    sem\n",
       "Drug Regimen                                                 \n",
       "Capomulin                40.676  41.558  4.995  24.948  0.329\n",
       "Ceftamin                 52.591  51.776  6.268  39.290  0.470\n",
       "Infubinol                52.885  51.821  6.567  43.129  0.492\n",
       "Ketapril                 55.236  53.699  8.280  68.554  0.604\n",
       "Naftisol                 54.332  52.509  8.135  66.173  0.596\n",
       "Placebo                  54.034  52.289  7.821  61.168  0.581\n",
       "Propriva                 52.321  50.446  6.622  43.852  0.544\n",
       "Ramicane                 40.217  40.673  4.846  23.487  0.321\n",
       "Stelasyn                 54.233  52.432  7.710  59.451  0.573\n",
       "Zoniferol                53.237  51.818  6.967  48.533  0.516"
      ]
     },
     "execution_count": 403,
     "metadata": {},
     "output_type": "execute_result"
    }
   ],
   "source": [
    "# Use groupby and summary statistical methods to calculate the following properties \n",
    "# of each drug regimen:mean, median, variance, standard deviation, and SEM of the tumor volume. \n",
    "# Generate a summary statistics table of mean, median, variance, standard deviation, \n",
    "# and SEM of the tumor volume for each regimen\n",
    "# Using the aggregation method, produce the same summary statistics in a single line\n",
    "\n",
    "tumor_summary_2 = merged_clean.groupby([\"Drug Regimen\"]).agg({\"Tumor Volume (mm3)\": [\"mean\", \"median\", \"std\", \"var\", \"sem\"]}).round(3)\n",
    "tumor_summary_2\n"
   ]
  },
  {
   "cell_type": "markdown",
   "metadata": {},
   "source": [
    "## Bar and Pie Charts"
   ]
  },
  {
   "cell_type": "code",
   "execution_count": 404,
   "metadata": {
    "scrolled": true
   },
   "outputs": [
    {
     "data": {
      "image/png": "[encoded data removed]",
      "text/plain": [
       "<Figure size 432x288 with 1 Axes>"
      ]
     },
     "metadata": {
      "needs_background": "light"
     },
     "output_type": "display_data"
    }
   ],
   "source": [
    "# Generate a bar plot showing the total number of timepoints for all mice\n",
    "# tested for each drug regimen using Pandas.\n",
    "\n",
    "timepoints_df = pd.DataFrame(merged_clean.groupby([\"Drug Regimen\"])[\"Timepoint\"].count())\n",
    "timepoints_df.plot(kind=\"bar\", color = \"green\")\n",
    "plt.show()"
   ]
  },
  {
   "cell_type": "code",
   "execution_count": 405,
   "metadata": {},
   "outputs": [
    {
     "data": {
      "image/png": "[encoded data removed]",
      "text/plain": [
       "<Figure size 432x288 with 1 Axes>"
      ]
     },
     "metadata": {
      "needs_background": "light"
     },
     "output_type": "display_data"
    },
    {
     "name": "stdout",
     "output_type": "stream",
     "text": [
      "Drug Regimen\n",
      "Capomulin    230\n",
      "Ceftamin     178\n",
      "Infubinol    178\n",
      "Ketapril     188\n",
      "Naftisol     186\n",
      "Placebo      181\n",
      "Propriva     148\n",
      "Ramicane     228\n",
      "Stelasyn     181\n",
      "Zoniferol    182\n",
      "Name: Timepoint, dtype: int64\n"
     ]
    }
   ],
   "source": [
    "# Generate a bar plot showing the total number of timepoints for all mice tested for each drug regimen using pyplot\n",
    "\n",
    "drugs = merged_clean[\"Drug Regimen\"].unique()\n",
    "timepoints = merged_clean.groupby([\"Drug Regimen\"])[\"Timepoint\"].count()\n",
    "\n",
    "plt.title(\"Timepoint Observed by Drug Regimen\")\n",
    "plt.xlabel(\"Drug Regimen\")\n",
    "plt.ylabel(\"Timepoints\")\n",
    "plt.xticks(rotation = 30)\n",
    "plt.bar(drugs, timepoints)\n",
    "plt.show()\n",
    "\n",
    "print(timepoints)"
   ]
  },
  {
   "cell_type": "code",
   "execution_count": 406,
   "metadata": {},
   "outputs": [
    {
     "data": {
      "image/png": "[encoded data removed]",
      "text/plain": [
       "<Figure size 432x288 with 1 Axes>"
      ]
     },
     "metadata": {},
     "output_type": "display_data"
    }
   ],
   "source": [
    "# Generate a pie plot showing the distribution of female versus male mice using Pandas\n",
    "mouse_sex = pd.DataFrame(merged_clean.groupby([\"Sex\"])[\"Mouse ID\"].count())\n",
    "piechart_1 = mouse_sex.plot.pie(subplots = True)\n",
    "plt.show()"
   ]
  },
  {
   "cell_type": "code",
   "execution_count": 407,
   "metadata": {},
   "outputs": [
    {
     "data": {
      "text/html": [
       "<div>\n",
       "<style scoped>\n",
       "    .dataframe tbody tr th:only-of-type {\n",
       "        vertical-align: middle;\n",
       "    }\n",
       "\n",
       "    .dataframe tbody tr th {\n",
       "        vertical-align: top;\n",
       "    }\n",
       "\n",
       "    .dataframe thead th {\n",
       "        text-align: right;\n",
       "    }\n",
       "</style>\n",
       "<table border=\"1\" class=\"dataframe\">\n",
       "  <thead>\n",
       "    <tr style=\"text-align: right;\">\n",
       "      <th></th>\n",
       "      <th>Mouse ID</th>\n",
       "    </tr>\n",
       "    <tr>\n",
       "      <th>Sex</th>\n",
       "      <th></th>\n",
       "    </tr>\n",
       "  </thead>\n",
       "  <tbody>\n",
       "    <tr>\n",
       "      <th>Female</th>\n",
       "      <td>922</td>\n",
       "    </tr>\n",
       "    <tr>\n",
       "      <th>Male</th>\n",
       "      <td>958</td>\n",
       "    </tr>\n",
       "  </tbody>\n",
       "</table>\n",
       "</div>"
      ],
      "text/plain": [
       "        Mouse ID\n",
       "Sex             \n",
       "Female       922\n",
       "Male         958"
      ]
     },
     "execution_count": 407,
     "metadata": {},
     "output_type": "execute_result"
    }
   ],
   "source": [
    "mouse_sex"
   ]
  },
  {
   "cell_type": "code",
   "execution_count": 408,
   "metadata": {},
   "outputs": [
    {
     "data": {
      "image/png": "[encoded data removed]",
      "text/plain": [
       "<Figure size 432x288 with 1 Axes>"
      ]
     },
     "metadata": {},
     "output_type": "display_data"
    }
   ],
   "source": [
    "# Generate a pie plot showing the distribution of female versus male mice using pyplot\n",
    "sex = merged_clean[\"Sex\"].unique() \n",
    "size = mouse_sex[\"Mouse ID\"]\n",
    "plt.title(\"Sex of Observed Mice\")\n",
    "plt.pie(size, labels = sex, startangle= 90, autopct='%1.0f%%')\n",
    "plt.show()"
   ]
  },
  {
   "cell_type": "markdown",
   "metadata": {},
   "source": [
    "## Quartiles, Outliers and Boxplots"
   ]
  },
  {
   "cell_type": "code",
   "execution_count": 409,
   "metadata": {},
   "outputs": [
    {
     "data": {
      "text/html": [
       "<div>\n",
       "<style scoped>\n",
       "    .dataframe tbody tr th:only-of-type {\n",
       "        vertical-align: middle;\n",
       "    }\n",
       "\n",
       "    .dataframe tbody tr th {\n",
       "        vertical-align: top;\n",
       "    }\n",
       "\n",
       "    .dataframe thead th {\n",
       "        text-align: right;\n",
       "    }\n",
       "</style>\n",
       "<table border=\"1\" class=\"dataframe\">\n",
       "  <thead>\n",
       "    <tr style=\"text-align: right;\">\n",
       "      <th></th>\n",
       "      <th>Mouse ID</th>\n",
       "      <th>Timepoint</th>\n",
       "      <th>Tumor Volume (mm3)</th>\n",
       "      <th>Metastatic Sites</th>\n",
       "      <th>Drug Regimen</th>\n",
       "      <th>Sex</th>\n",
       "      <th>Age_months</th>\n",
       "      <th>Weight (g)</th>\n",
       "      <th>Mouse ID - Timepoint</th>\n",
       "      <th>Is Duplicate</th>\n",
       "    </tr>\n",
       "  </thead>\n",
       "  <tbody>\n",
       "    <tr>\n",
       "      <th>8</th>\n",
       "      <td>z969</td>\n",
       "      <td>45</td>\n",
       "      <td>73.867845</td>\n",
       "      <td>4</td>\n",
       "      <td>Naftisol</td>\n",
       "      <td>Male</td>\n",
       "      <td>9</td>\n",
       "      <td>30</td>\n",
       "      <td>z969-45</td>\n",
       "      <td>False</td>\n",
       "    </tr>\n",
       "    <tr>\n",
       "      <th>7</th>\n",
       "      <td>z969</td>\n",
       "      <td>40</td>\n",
       "      <td>70.314904</td>\n",
       "      <td>4</td>\n",
       "      <td>Naftisol</td>\n",
       "      <td>Male</td>\n",
       "      <td>9</td>\n",
       "      <td>30</td>\n",
       "      <td>z969-40</td>\n",
       "      <td>False</td>\n",
       "    </tr>\n",
       "    <tr>\n",
       "      <th>9</th>\n",
       "      <td>z969</td>\n",
       "      <td>35</td>\n",
       "      <td>69.176246</td>\n",
       "      <td>4</td>\n",
       "      <td>Naftisol</td>\n",
       "      <td>Male</td>\n",
       "      <td>9</td>\n",
       "      <td>30</td>\n",
       "      <td>z969-35</td>\n",
       "      <td>False</td>\n",
       "    </tr>\n",
       "    <tr>\n",
       "      <th>3</th>\n",
       "      <td>z969</td>\n",
       "      <td>30</td>\n",
       "      <td>65.841013</td>\n",
       "      <td>3</td>\n",
       "      <td>Naftisol</td>\n",
       "      <td>Male</td>\n",
       "      <td>9</td>\n",
       "      <td>30</td>\n",
       "      <td>z969-30</td>\n",
       "      <td>False</td>\n",
       "    </tr>\n",
       "    <tr>\n",
       "      <th>5</th>\n",
       "      <td>z969</td>\n",
       "      <td>25</td>\n",
       "      <td>63.145652</td>\n",
       "      <td>2</td>\n",
       "      <td>Naftisol</td>\n",
       "      <td>Male</td>\n",
       "      <td>9</td>\n",
       "      <td>30</td>\n",
       "      <td>z969-25</td>\n",
       "      <td>False</td>\n",
       "    </tr>\n",
       "  </tbody>\n",
       "</table>\n",
       "</div>"
      ],
      "text/plain": [
       "  Mouse ID  Timepoint  Tumor Volume (mm3)  Metastatic Sites Drug Regimen  \\\n",
       "8     z969         45           73.867845                 4     Naftisol   \n",
       "7     z969         40           70.314904                 4     Naftisol   \n",
       "9     z969         35           69.176246                 4     Naftisol   \n",
       "3     z969         30           65.841013                 3     Naftisol   \n",
       "5     z969         25           63.145652                 2     Naftisol   \n",
       "\n",
       "    Sex  Age_months  Weight (g) Mouse ID - Timepoint  Is Duplicate  \n",
       "8  Male           9          30              z969-45         False  \n",
       "7  Male           9          30              z969-40         False  \n",
       "9  Male           9          30              z969-35         False  \n",
       "3  Male           9          30              z969-30         False  \n",
       "5  Male           9          30              z969-25         False  "
      ]
     },
     "execution_count": 409,
     "metadata": {},
     "output_type": "execute_result"
    }
   ],
   "source": [
    "merged_clean.head()"
   ]
  },
  {
   "cell_type": "code",
   "execution_count": 410,
   "metadata": {},
   "outputs": [
    {
     "data": {
      "text/html": [
       "<div>\n",
       "<style scoped>\n",
       "    .dataframe tbody tr th:only-of-type {\n",
       "        vertical-align: middle;\n",
       "    }\n",
       "\n",
       "    .dataframe tbody tr th {\n",
       "        vertical-align: top;\n",
       "    }\n",
       "\n",
       "    .dataframe thead th {\n",
       "        text-align: right;\n",
       "    }\n",
       "</style>\n",
       "<table border=\"1\" class=\"dataframe\">\n",
       "  <thead>\n",
       "    <tr style=\"text-align: right;\">\n",
       "      <th></th>\n",
       "      <th>Mouse ID</th>\n",
       "      <th>Timepoint_x</th>\n",
       "      <th>Tumor Volume (mm3)</th>\n",
       "      <th>Metastatic Sites</th>\n",
       "      <th>Drug Regimen</th>\n",
       "      <th>Sex</th>\n",
       "      <th>Age_months</th>\n",
       "      <th>Weight (g)</th>\n",
       "      <th>Mouse ID - Timepoint</th>\n",
       "      <th>Is Duplicate</th>\n",
       "      <th>Timepoint_y</th>\n",
       "    </tr>\n",
       "  </thead>\n",
       "  <tbody>\n",
       "    <tr>\n",
       "      <th>0</th>\n",
       "      <td>z969</td>\n",
       "      <td>45</td>\n",
       "      <td>73.867845</td>\n",
       "      <td>4</td>\n",
       "      <td>Naftisol</td>\n",
       "      <td>Male</td>\n",
       "      <td>9</td>\n",
       "      <td>30</td>\n",
       "      <td>z969-45</td>\n",
       "      <td>False</td>\n",
       "      <td>45</td>\n",
       "    </tr>\n",
       "    <tr>\n",
       "      <th>1</th>\n",
       "      <td>z969</td>\n",
       "      <td>40</td>\n",
       "      <td>70.314904</td>\n",
       "      <td>4</td>\n",
       "      <td>Naftisol</td>\n",
       "      <td>Male</td>\n",
       "      <td>9</td>\n",
       "      <td>30</td>\n",
       "      <td>z969-40</td>\n",
       "      <td>False</td>\n",
       "      <td>45</td>\n",
       "    </tr>\n",
       "    <tr>\n",
       "      <th>2</th>\n",
       "      <td>z969</td>\n",
       "      <td>35</td>\n",
       "      <td>69.176246</td>\n",
       "      <td>4</td>\n",
       "      <td>Naftisol</td>\n",
       "      <td>Male</td>\n",
       "      <td>9</td>\n",
       "      <td>30</td>\n",
       "      <td>z969-35</td>\n",
       "      <td>False</td>\n",
       "      <td>45</td>\n",
       "    </tr>\n",
       "    <tr>\n",
       "      <th>3</th>\n",
       "      <td>z969</td>\n",
       "      <td>30</td>\n",
       "      <td>65.841013</td>\n",
       "      <td>3</td>\n",
       "      <td>Naftisol</td>\n",
       "      <td>Male</td>\n",
       "      <td>9</td>\n",
       "      <td>30</td>\n",
       "      <td>z969-30</td>\n",
       "      <td>False</td>\n",
       "      <td>45</td>\n",
       "    </tr>\n",
       "    <tr>\n",
       "      <th>4</th>\n",
       "      <td>z969</td>\n",
       "      <td>25</td>\n",
       "      <td>63.145652</td>\n",
       "      <td>2</td>\n",
       "      <td>Naftisol</td>\n",
       "      <td>Male</td>\n",
       "      <td>9</td>\n",
       "      <td>30</td>\n",
       "      <td>z969-25</td>\n",
       "      <td>False</td>\n",
       "      <td>45</td>\n",
       "    </tr>\n",
       "  </tbody>\n",
       "</table>\n",
       "</div>"
      ],
      "text/plain": [
       "  Mouse ID  Timepoint_x  Tumor Volume (mm3)  Metastatic Sites Drug Regimen  \\\n",
       "0     z969           45           73.867845                 4     Naftisol   \n",
       "1     z969           40           70.314904                 4     Naftisol   \n",
       "2     z969           35           69.176246                 4     Naftisol   \n",
       "3     z969           30           65.841013                 3     Naftisol   \n",
       "4     z969           25           63.145652                 2     Naftisol   \n",
       "\n",
       "    Sex  Age_months  Weight (g) Mouse ID - Timepoint  Is Duplicate  \\\n",
       "0  Male           9          30              z969-45         False   \n",
       "1  Male           9          30              z969-40         False   \n",
       "2  Male           9          30              z969-35         False   \n",
       "3  Male           9          30              z969-30         False   \n",
       "4  Male           9          30              z969-25         False   \n",
       "\n",
       "   Timepoint_y  \n",
       "0           45  \n",
       "1           45  \n",
       "2           45  \n",
       "3           45  \n",
       "4           45  "
      ]
     },
     "execution_count": 410,
     "metadata": {},
     "output_type": "execute_result"
    }
   ],
   "source": [
    "# Calculate the final tumor volume of each mouse across four of the treatment regimens:  \n",
    "# Capomulin, Ramicane, Infubinol, and Ceftamin\n",
    "# Start by getting the last (greatest) timepoint for each mouse\n",
    "\n",
    "max_timepoint_df = pd.DataFrame(merged_clean.groupby([\"Mouse ID\"])[\"Timepoint\"].max())\n",
    "# max_timepoint = pd.DataFrame(max_timepoint.reset_index())\n",
    "# max_timepoint[\"Mouse ID - Timepoint\"] = max_timepoint[\"Mouse ID\"] + \"-\" + max_timepoint[\"Timepoint\"].astype(str)\n",
    "#print(max_timepoint_df)\n",
    "\n",
    "# Merge this group df with the original dataframe to get the tumor volume at the last timepoint\n",
    "\n",
    "merged2_clean = pd.merge(merged_clean, max_timepoint_df, on =\"Mouse ID\")\n",
    "\n",
    "\n",
    "# Joining on the concatenated Mouse ID and Timepoint column limits the dataframe to only the final tumor volumes\n",
    "# drugs_merged_ftp = pd.merge(merged_clean, max_timepoint,on=\"Mouse ID - Timepoint\",how=\"inner\")\n",
    "# drugs_merged_all = pd.merge(merged_clean, max_timepoint,on=\"Mouse ID - Timepoint\",how=\"left\")\n",
    "# drugs_merged_ftp.info()\n",
    "merged2_clean.head()"
   ]
  },
  {
   "cell_type": "code",
   "execution_count": 411,
   "metadata": {},
   "outputs": [
    {
     "name": "stdout",
     "output_type": "stream",
     "text": [
      "IQR for Capomulin: 7.31\n",
      "The lower quartile is: 37.69\n",
      "The upper quartile is: 45.0\n",
      "The interquartile range  is: 7.31\n",
      "The the median is: 41.56 \n",
      "Values below 26.72 could be outliers.\n",
      "Values above 55.96 could be outliers.\n",
      "There are 2 outliers in the Capomulin group of 230 data points.\n",
      "----------\n",
      "IQR for Ramicane: 8.33\n",
      "The lower quartile is: 36.67\n",
      "The upper quartile is: 45.0\n",
      "The interquartile range  is: 8.33\n",
      "The the median is: 40.67 \n",
      "Values below 24.18 could be outliers.\n",
      "Values above 57.5 could be outliers.\n",
      "There are 1 outliers in the Ramicane group of 228 data points.\n",
      "----------\n",
      "IQR for Infubinol: 10.0\n",
      "The lower quartile is: 47.31\n",
      "The upper quartile is: 57.31\n",
      "The interquartile range  is: 10.0\n",
      "The the median is: 51.82 \n",
      "Values below 32.31 could be outliers.\n",
      "Values above 72.31 could be outliers.\n",
      "There are 0 outliers in the Infubinol group of 178 data points.\n",
      "----------\n",
      "IQR for Ceftamin: 9.59\n",
      "The lower quartile is: 47.21\n",
      "The upper quartile is: 56.8\n",
      "The interquartile range  is: 9.59\n",
      "The the median is: 51.78 \n",
      "Values below 32.83 could be outliers.\n",
      "Values above 71.18 could be outliers.\n",
      "There are 0 outliers in the Ceftamin group of 178 data points.\n",
      "----------\n"
     ]
    }
   ],
   "source": [
    "\n",
    "drugs = [\"Capomulin\", \"Ramicane\", \"Infubinol\", \"Ceftamin\"]\n",
    "final_tumorvol = []\n",
    "\n",
    "for drug in drugs:\n",
    "    drug_df = merged2_clean.loc[merged2_clean[\"Drug Regimen\"] == drug]\n",
    "    final_tp_df = drug_df.loc[drug_df[\"Timepoint_y\"] == drug_df[\"Timepoint_y\"]]\n",
    "    \n",
    "    max_tv = final_tp_df[\"Tumor Volume (mm3)\"]\n",
    "    final_tumorvol.append(max_tv)\n",
    "    \n",
    "    quartiles = max_tv.quantile([0.25, 0.5, 0.75])\n",
    "    lowerq = quartiles[0.25].round(2)\n",
    "    upperq = quartiles[0.75].round(2)\n",
    "    iqr = (upperq-lowerq).round(2)\n",
    "    lower_bound = (lowerq - (1.5*iqr)).round(2)\n",
    "    upper_bound = (upperq + (1.5*iqr)).round(2)\n",
    "    \n",
    "    outliers = (max_tv.loc[(final_tp_df[\"Tumor Volume (mm3)\"] >=upper_bound) |(final_tp_df[\"Tumor Volume (mm3)\"] <= lower_bound)]).count()\n",
    "    total_count = final_tp_df[\"Tumor Volume (mm3)\"].count()\n",
    "\n",
    "    print(f\"IQR for {drug}: {iqr}\")\n",
    "    print(f\"The lower quartile is: {lowerq}\")\n",
    "    print(f\"The upper quartile is: {upperq}\")\n",
    "    print(f\"The interquartile range  is: {iqr}\")\n",
    "    print(f\"The the median is: {quartiles[0.5].round(2)} \")\n",
    "    print(f\"Values below {lower_bound} could be outliers.\")\n",
    "    print(f\"Values above {upper_bound} could be outliers.\")\n",
    "    print(f\"There are {outliers} outliers in the {drug} group of {total_count} data points.\")\n",
    "    print(\"----------\")\n",
    "    \n"
   ]
  },
  {
   "cell_type": "code",
   "execution_count": 412,
   "metadata": {},
   "outputs": [
    {
     "data": {
      "image/png": "[encoded data removed]",
      "text/plain": [
       "<Figure size 432x288 with 1 Axes>"
      ]
     },
     "metadata": {
      "needs_background": "light"
     },
     "output_type": "display_data"
    }
   ],
   "source": [
    "# Generate a box plot of the final tumor volume of each mouse across four regimens of interest\n",
    "\n",
    "plt.boxplot(final_tumorvol)\n",
    "plt.xticks([1, 2, 3, 4], drugs)\n",
    "plt.ylabel(\"Tumor Volume (mm3)\")\n",
    "plt.title(\"Final Tumor Volume of Specified Drug Regimens\")\n",
    "plt.show()"
   ]
  },
  {
   "cell_type": "markdown",
   "metadata": {},
   "source": [
    "## Line and Scatter Plots"
   ]
  },
  {
   "cell_type": "code",
   "execution_count": 413,
   "metadata": {},
   "outputs": [
    {
     "name": "stdout",
     "output_type": "stream",
     "text": [
      "['y793' 'x401' 'w914' 'w150' 'v923' 'u364' 't565' 's710' 's185' 'r944'\n",
      " 'r554' 'r157' 'm957' 'm601' 'l897' 'l509' 'j246' 'j119' 'i738' 'i557'\n",
      " 'g316' 'g288' 'f966' 'b742' 'b128']\n"
     ]
    },
    {
     "data": {
      "image/png": "[encoded data removed]",
      "text/plain": [
       "<Figure size 432x288 with 1 Axes>"
      ]
     },
     "metadata": {
      "needs_background": "light"
     },
     "output_type": "display_data"
    }
   ],
   "source": [
    "# Generate a line plot of tumor volume vs. time point for a mouse treated with Capomulin\n",
    "\n",
    "# Find a mouse treated with Capomulin\n",
    "find_mouse_df = merged2_clean[merged2_clean[\"Drug Regimen\"] == \"Capomulin\"]\n",
    "which_mouse = find_mouse_df[\"Mouse ID\"].unique()\n",
    "print(which_mouse)\n",
    "# which_mouse used to list the Mouse IDs. This first item, \"y793\", is used\n",
    "\n",
    "found_mouse = find_mouse_df[find_mouse_df[\"Mouse ID\"]== \"y793\"]\n",
    "\n",
    "plt.plot(found_mouse[\"Timepoint_x\"], found_mouse[\"Tumor Volume (mm3)\"])\n",
    "plt.title(f\"Treatment Course for y793 with Capomulin\")\n",
    "plt.ylabel(\"Tumor Volume (mm3)\")\n",
    "plt.xlabel(\"Days with Treatment\")\n",
    "plt.show()"
   ]
  },
  {
   "cell_type": "code",
   "execution_count": 414,
   "metadata": {},
   "outputs": [
    {
     "data": {
      "image/png": "[encoded data removed]",
      "text/plain": [
       "<Figure size 432x288 with 1 Axes>"
      ]
     },
     "metadata": {
      "needs_background": "light"
     },
     "output_type": "display_data"
    }
   ],
   "source": [
    "# Generate a scatter plot of average tumor volume vs. mouse weight for the Capomulin regimen\n",
    "avg_tumorvol = pd.DataFrame(find_mouse_df.groupby([\"Mouse ID\"])[\"Tumor Volume (mm3)\"].mean())\n",
    "avg_tumorvol = pd.merge(find_mouse_df, avg_tumorvol, on = \"Mouse ID\")\n",
    "\n",
    "avg_tumorvol_dedup = avg_tumorvol[[\"Weight (g)\", \"Tumor Volume (mm3)_y\"]].drop_duplicates()\n",
    "avg_tumorvol_dedup\n",
    "\n",
    "x_axisplt = avg_tumorvol_dedup[\"Weight (g)\"]\n",
    "y_axisplt = avg_tumorvol_dedup[\"Tumor Volume (mm3)_y\"]\n",
    "plt.scatter(x_axisplt, y_axisplt)\n",
    "plt.xlabel(\"Weight (g)\")\n",
    "plt.ylabel(\"Tumor Volume (mm3)\")\n",
    "plt.title(\"Average Tumor Volume by Weight among Capomulin-Treated Mice\")\n",
    "plt.show()"
   ]
  },
  {
   "cell_type": "markdown",
   "metadata": {},
   "source": [
    "## Correlation and Regression"
   ]
  },
  {
   "cell_type": "code",
   "execution_count": 415,
   "metadata": {},
   "outputs": [
    {
     "name": "stdout",
     "output_type": "stream",
     "text": [
      "<function linregress at 0x000001EA9A562040>\n"
     ]
    }
   ],
   "source": [
    "print(linregress)"
   ]
  },
  {
   "cell_type": "code",
   "execution_count": 416,
   "metadata": {},
   "outputs": [
    {
     "name": "stdout",
     "output_type": "stream",
     "text": [
      "Correleation coefficient for Tumor Volume (mm3) and Weight (g): 0.84\n"
     ]
    },
    {
     "data": {
      "image/png": "[encoded data removed]",
      "text/plain": [
       "<Figure size 432x288 with 1 Axes>"
      ]
     },
     "metadata": {
      "needs_background": "light"
     },
     "output_type": "display_data"
    },
    {
     "name": "stdout",
     "output_type": "stream",
     "text": [
      "Trendline Equation: y = 0.95x + 21.55\n"
     ]
    }
   ],
   "source": [
    "# Calculate the correlation coefficient and linear regression model \n",
    "# for mouse weight and average tumor volume for the Capomulin regimen\n",
    "x_axisplt = avg_tumorvol_dedup[\"Weight (g)\"]\n",
    "y_axisplt = avg_tumorvol_dedup[\"Tumor Volume (mm3)_y\"]\n",
    "\n",
    "correlation = st.pearsonr(x_axisplt,y_axisplt)\n",
    "print(f\"Correleation coefficient for Tumor Volume (mm3) and Weight (g): {round(correlation[0],2)}\")\n",
    "\n",
    "# Plot the linear regression model on top of the previous scatter plot.\n",
    "(slope, intercept, rvalue, pvalue, stderr) = linregress(x_axisplt, y_axisplt)\n",
    "regress_values =x_axisplt * slope + intercept\n",
    "line_eq = \"y = \" + str(round(slope,2)) + \"x + \" + str(round(intercept,2))\n",
    "\n",
    "plt.scatter(x_axisplt,y_axisplt)\n",
    "plt.plot(x_axisplt,regress_values,\"r-\")\n",
    "plt.annotate(line_eq,(5.8,0.8),fontsize=15,color=\"red\")\n",
    "plt.xlabel(\"Weight (g)\")\n",
    "plt.ylabel(\"Tumor Volume (mm3)_y\")\n",
    "\n",
    "plt.annotate(line_eq,(1,1), fontsize=15, color=\"red\")\n",
    "plt.title(f\"Correlation Between Weight (g) and Tumor Volume(mm3) Among Mice Treated with Capomulin\")\n",
    "plt.show()\n",
    "print(f\"Trendline Equation: {line_eq}\")"
   ]
  },
  {
   "cell_type": "code",
   "execution_count": null,
   "metadata": {},
   "outputs": [],
   "source": []
  }
 ],
 "metadata": {
  "anaconda-cloud": {},
  "kernelspec": {
   "display_name": "Python 3 (ipykernel)",
   "language": "python",
   "name": "python3"
  },
  "language_info": {
   "codemirror_mode": {
    "name": "ipython",
    "version": 3
   },
   "file_extension": ".py",
   "mimetype": "text/x-python",
   "name": "python",
   "nbconvert_exporter": "python",
   "pygments_lexer": "ipython3",
   "version": "3.9.7"
  }
 },
 "nbformat": 4,
 "nbformat_minor": 4
}
